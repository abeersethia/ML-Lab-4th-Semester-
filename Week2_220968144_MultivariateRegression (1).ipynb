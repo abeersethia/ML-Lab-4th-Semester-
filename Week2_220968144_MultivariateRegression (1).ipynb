{
 "cells": [
  {
   "cell_type": "markdown",
   "id": "bf960e7b",
   "metadata": {},
   "source": [
    "## Week 2: Multivariate Regression\n",
    "Abeer Sethia | 220968144"
   ]
  },
  {
   "cell_type": "markdown",
   "id": "51cfb16b",
   "metadata": {},
   "source": [
    "#### Importing Libraries"
   ]
  },
  {
   "cell_type": "code",
   "execution_count": 1,
   "id": "9128afe8",
   "metadata": {},
   "outputs": [],
   "source": [
    "import pandas as pd\n",
    "import seaborn as sns\n",
    "import numpy as np\n",
    "import matplotlib.pyplot as plt\n",
    "from scipy import stats\n",
    "from sklearn.linear_model import LinearRegression\n",
    "from numpy import random"
   ]
  },
  {
   "cell_type": "markdown",
   "id": "61c21425",
   "metadata": {},
   "source": [
    "### Manual Method on Given Dataset\n"
   ]
  },
  {
   "cell_type": "code",
   "execution_count": 2,
   "id": "f62e5ad5",
   "metadata": {},
   "outputs": [],
   "source": [
    "df = pd.read_csv('Book2.csv')"
   ]
  },
  {
   "cell_type": "code",
   "execution_count": 13,
   "id": "005de5ad",
   "metadata": {},
   "outputs": [],
   "source": [
    "y = df.Y.to_numpy()\n",
    "x_1 = df.X1.to_numpy()\n",
    "x_2 = df.X2.to_numpy()\n",
    "n = 5"
   ]
  },
  {
   "cell_type": "code",
   "execution_count": 18,
   "id": "1bbcf978",
   "metadata": {},
   "outputs": [],
   "source": [
    "x_1_sq = (x_1**2).sum()\n",
    "x_2_sq = (x_2**2).sum()\n",
    "x_12 = (x_1*x_2).sum()\n",
    "x_1_y = (x_1*y).sum()\n",
    "x_2_y = (x_2*y).sum()"
   ]
  },
  {
   "cell_type": "code",
   "execution_count": 22,
   "id": "586612e5",
   "metadata": {},
   "outputs": [],
   "source": [
    "X_1 = x_1_sq - x_1.sum()**2/n\n",
    "X_2 = x_2_sq - x_2.sum()**2/n\n",
    "X_1_Y = x_1_y - (x_1.sum()*y.sum())/n\n",
    "X_2_Y = x_2_y - (x_2.sum()*y.sum())/n\n",
    "X_12 = x_12 - (x_2.sum()*x_1.sum())/n"
   ]
  },
  {
   "cell_type": "code",
   "execution_count": 29,
   "id": "25780265",
   "metadata": {},
   "outputs": [],
   "source": [
    "b_1 = (X_2*X_1_Y - X_12*X_2_Y)/(X_1*X_2 - X_12**2)\n",
    "b_2 = (X_1*X_2_Y - X_12*X_1_Y)/(X_1*X_2 - X_12**2)"
   ]
  },
  {
   "cell_type": "code",
   "execution_count": 33,
   "id": "d3a4a400",
   "metadata": {},
   "outputs": [
    {
     "name": "stdout",
     "output_type": "stream",
     "text": [
      "6.300250783699058\n"
     ]
    }
   ],
   "source": [
    "b_0 = y.mean() - b_1*x_1.mean() - b_2*x_2.mean()\n",
    "\n",
    "y_pred = b_0 + b_1*3 + b_2*2\n",
    "print(y_pred)"
   ]
  },
  {
   "cell_type": "markdown",
   "id": "e326d4ca",
   "metadata": {},
   "source": [
    "### Inbuilt Libraries on Given Dataset"
   ]
  },
  {
   "cell_type": "code",
   "execution_count": 35,
   "id": "0a6fdd87",
   "metadata": {},
   "outputs": [
    {
     "name": "stdout",
     "output_type": "stream",
     "text": [
      "[[3 8]\n",
      " [4 5]\n",
      " [5 7]\n",
      " [6 3]\n",
      " [2 1]]\n"
     ]
    }
   ],
   "source": [
    "y = df.Y.to_numpy()\n",
    "x = df[['X1','X2']].to_numpy()"
   ]
  },
  {
   "cell_type": "code",
   "execution_count": 38,
   "id": "0733ea7b",
   "metadata": {},
   "outputs": [
    {
     "name": "stdout",
     "output_type": "stream",
     "text": [
      "[6.30025078]\n"
     ]
    }
   ],
   "source": [
    "reg = LinearRegression().fit(x,y)\n",
    "y_pred = reg.predict([[3,2]])\n",
    "print(y_pred)"
   ]
  },
  {
   "cell_type": "markdown",
   "id": "0008ca75",
   "metadata": {},
   "source": [
    "### Inbuilt Libraries on Randomly Generated Numbers (Floating Point)"
   ]
  },
  {
   "cell_type": "code",
   "execution_count": 49,
   "id": "6686b5cf",
   "metadata": {},
   "outputs": [],
   "source": [
    "x = []\n",
    "y = []\n",
    "x1 = []\n",
    "N = 3\n",
    "up = 10*N\n",
    "for i in range (0,up):\n",
    "    x1.append(random.uniform(1,100))\n",
    "    if (i+1) % 3 == 0:\n",
    "        y.append(random.uniform(1, 100))\n",
    "        x.append(x1)\n",
    "        x1 = []   "
   ]
  },
  {
   "cell_type": "code",
   "execution_count": 53,
   "id": "ef288095",
   "metadata": {},
   "outputs": [],
   "source": [
    "x = np.array(x)\n",
    "y = np.array(y)"
   ]
  },
  {
   "cell_type": "code",
   "execution_count": 55,
   "id": "ccc138e5",
   "metadata": {},
   "outputs": [
    {
     "name": "stdout",
     "output_type": "stream",
     "text": [
      "[27.63697005]\n"
     ]
    }
   ],
   "source": [
    "reg = LinearRegression().fit(x,y)\n",
    "y_pred = reg.predict([[3,2,2]])\n",
    "print(y_pred)"
   ]
  },
  {
   "cell_type": "markdown",
   "id": "1651c286",
   "metadata": {},
   "source": [
    "### Inbuilt Libraries on Random Generated Numbers (Integers)\n"
   ]
  },
  {
   "cell_type": "code",
   "execution_count": 58,
   "id": "cb41bf1c",
   "metadata": {},
   "outputs": [],
   "source": [
    "x = []\n",
    "y = []\n",
    "x1 = []\n",
    "N = 3\n",
    "up = 10*N\n",
    "for i in range (0,up):\n",
    "    x1.append(random.randint(100))\n",
    "    if (i+1) % 3 == 0:\n",
    "        y.append(random.randint(100))\n",
    "        x.append(x1)\n",
    "        x1 = []   "
   ]
  },
  {
   "cell_type": "code",
   "execution_count": 59,
   "id": "edde43fc",
   "metadata": {},
   "outputs": [
    {
     "name": "stdout",
     "output_type": "stream",
     "text": [
      "[91.67773475]\n"
     ]
    }
   ],
   "source": [
    "x = np.array(x)\n",
    "y = np.array(y)\n",
    "reg = LinearRegression().fit(x,y)\n",
    "y_pred = reg.predict([[3,2,2]])\n",
    "print(y_pred)"
   ]
  },
  {
   "cell_type": "markdown",
   "id": "f650d8f2",
   "metadata": {},
   "source": [
    "### Manual Method on Random Generated Numbers (Integers)"
   ]
  },
  {
   "cell_type": "code",
   "execution_count": 61,
   "id": "4916f65f",
   "metadata": {},
   "outputs": [],
   "source": [
    "y = random.randint(100, size=(10))\n",
    "x_1 = random.randint(100, size=(10))\n",
    "x_2 = random.randint(100, size=(10))\n",
    "n = 10"
   ]
  },
  {
   "cell_type": "code",
   "execution_count": 62,
   "id": "e810f549",
   "metadata": {},
   "outputs": [
    {
     "name": "stdout",
     "output_type": "stream",
     "text": [
      "65.18614379425772\n"
     ]
    }
   ],
   "source": [
    "x_1_sq = (x_1**2).sum()\n",
    "x_2_sq = (x_2**2).sum()\n",
    "x_12 = (x_1*x_2).sum()\n",
    "x_1_y = (x_1*y).sum()\n",
    "x_2_y = (x_2*y).sum()\n",
    "X_1 = x_1_sq - x_1.sum()**2/n\n",
    "X_2 = x_2_sq - x_2.sum()**2/n\n",
    "X_1_Y = x_1_y - (x_1.sum()*y.sum())/n\n",
    "X_2_Y = x_2_y - (x_2.sum()*y.sum())/n\n",
    "X_12 = x_12 - (x_2.sum()*x_1.sum())/n\n",
    "\n",
    "b_1 = (X_2*X_1_Y - X_12*X_2_Y)/(X_1*X_2 - X_12**2)\n",
    "b_2 = (X_1*X_2_Y - X_12*X_1_Y)/(X_1*X_2 - X_12**2)\n",
    "\n",
    "b_0 = y.mean() - b_1*x_1.mean() - b_2*x_2.mean()\n",
    "\n",
    "y_pred = b_0 + b_1*15 + b_2*20\n",
    "print(y_pred)"
   ]
  },
  {
   "cell_type": "markdown",
   "id": "d5782ab8",
   "metadata": {},
   "source": [
    "### Manual Method on Random Generated Numbers (Floating Point)"
   ]
  },
  {
   "cell_type": "code",
   "execution_count": 67,
   "id": "237f4b0c",
   "metadata": {},
   "outputs": [],
   "source": [
    "x_1 = []\n",
    "y = []\n",
    "x_2 = []\n",
    "for i in range (0,10):\n",
    "    x_1.append(random.uniform(1, 100))\n",
    "    x_2.append(random.uniform(1, 100))\n",
    "    y.append(random.uniform(1, 100))\n",
    "x_1 = np.array(x_1)\n",
    "x_2 = np.array(x_2)\n",
    "y = np.array(y)"
   ]
  },
  {
   "cell_type": "code",
   "execution_count": 68,
   "id": "e6a402d5",
   "metadata": {},
   "outputs": [
    {
     "name": "stdout",
     "output_type": "stream",
     "text": [
      "26.860094055405312\n"
     ]
    }
   ],
   "source": [
    "x_1_sq = (x_1**2).sum()\n",
    "x_2_sq = (x_2**2).sum()\n",
    "x_12 = (x_1*x_2).sum()\n",
    "x_1_y = (x_1*y).sum()\n",
    "x_2_y = (x_2*y).sum()\n",
    "X_1 = x_1_sq - x_1.sum()**2/n\n",
    "X_2 = x_2_sq - x_2.sum()**2/n\n",
    "X_1_Y = x_1_y - (x_1.sum()*y.sum())/n\n",
    "X_2_Y = x_2_y - (x_2.sum()*y.sum())/n\n",
    "X_12 = x_12 - (x_2.sum()*x_1.sum())/n\n",
    "\n",
    "b_1 = (X_2*X_1_Y - X_12*X_2_Y)/(X_1*X_2 - X_12**2)\n",
    "b_2 = (X_1*X_2_Y - X_12*X_1_Y)/(X_1*X_2 - X_12**2)\n",
    "\n",
    "b_0 = y.mean() - b_1*x_1.mean() - b_2*x_2.mean()\n",
    "\n",
    "y_pred = b_0 + b_1*15 + b_2*20\n",
    "print(y_pred)"
   ]
  },
  {
   "cell_type": "code",
   "execution_count": null,
   "id": "27b104e9",
   "metadata": {},
   "outputs": [],
   "source": []
  }
 ],
 "metadata": {
  "kernelspec": {
   "display_name": "Python 3 (ipykernel)",
   "language": "python",
   "name": "python3"
  },
  "language_info": {
   "codemirror_mode": {
    "name": "ipython",
    "version": 3
   },
   "file_extension": ".py",
   "mimetype": "text/x-python",
   "name": "python",
   "nbconvert_exporter": "python",
   "pygments_lexer": "ipython3",
   "version": "3.11.3"
  }
 },
 "nbformat": 4,
 "nbformat_minor": 5
}
